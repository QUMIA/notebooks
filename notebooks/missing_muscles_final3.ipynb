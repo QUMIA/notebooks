{
 "cells": [
  {
   "cell_type": "markdown",
   "id": "bf6e66e8-0e4b-424f-a1f8-004180bc97ae",
   "metadata": {
    "tags": []
   },
   "source": [
    "# Understanding missing muscles for QUMIA project"
   ]
  },
  {
   "cell_type": "code",
   "execution_count": null,
   "id": "9af61284-6c9d-4c5f-863c-d2c9b8f653c4",
   "metadata": {
    "tags": []
   },
   "outputs": [],
   "source": [
    "## import libraries\n",
    "import os       # using operating system dependent functionality (folders)\n",
    "import glob\n",
    "import shutil \n",
    "import itertools\n",
    "import tempfile \n",
    "import subprocess\n",
    "\n",
    "import pandas as pd # data analysis and manipulation\n",
    "import numpy as np    # numerical computing (manipulating and performing operations on arrays of data)\n",
    "import matplotlib.pyplot as plt\n",
    "import seaborn as sns\n",
    "import ipywidgets as widgets\n",
    "\n",
    "from sklearn import metrics\n",
    "from sklearn.metrics import confusion_matrix\n",
    "\n",
    "import datetime\n",
    "from shutil import copytree\n",
    "\n",
    "from IPython.display import Image\n",
    "\n",
    "import imageio\n",
    "import skimage\n",
    "\n",
    "from IPython.display import Image"
   ]
  },
  {
   "cell_type": "code",
   "execution_count": null,
   "id": "02c8b05b-00e1-407c-b205-3508ae6166e1",
   "metadata": {
    "tags": []
   },
   "outputs": [],
   "source": [
    "## import data\n",
    "data= pd.read_csv('merged.csv')"
   ]
  },
  {
   "cell_type": "code",
   "execution_count": null,
   "id": "1318733a-11fe-4e7c-9046-168644b89681",
   "metadata": {
    "tags": []
   },
   "outputs": [],
   "source": [
    "standard = [\n",
    "    'm. deltoideus',\n",
    "    'm. biceps brachi',\n",
    "    'm. flexor digitorum profundus',\n",
    "    'm. interosseus dorsalis',\n",
    "    'm. rectus femoris',\n",
    "    'm. vastus lateralis',\n",
    "    'm. tibialis anterior',\n",
    "    'm. gastrocnemius mediale kop',\n",
    "] \n",
    "\n",
    "myositis = [\n",
    "    'm. deltoideus',\n",
    "    'm. biceps brachi',\n",
    "    'm. interosseus dorsalis',\n",
    "    'm. rectus femoris',\n",
    "    'm. tibialis anterior',\n",
    "    'm. gastrocnemius mediale kop',\n",
    "    'm. flexor digitorum profundus',\n",
    "    'm. vastus lateralis',\n",
    "    'm. gastrocnemius mediale kop',\n",
    "]\n",
    "        \n",
    "    \n",
    "mnd = [\n",
    "    'm. geniohyoideus (unilateraal)',\n",
    "    'm. digastricus',\n",
    "    'm. masseter',\n",
    "    'm. sternocleidomastoideus',\n",
    "    'm. trapezius',\n",
    "    'm. deltoideus',\n",
    "    'm. biceps brachi',\n",
    "    'm. rectus femoris',\n",
    "    'm. flexor digitorum profundum',\n",
    "    'm. vastus lateralis',\n",
    "    'm. gastrocnemius mediale kop',\n",
    "     'm. tibialis anterior',\n",
    "     'm. tibialis anterior',\n",
    "]\n",
    "    \n",
    "    \n",
    "fshd = [\n",
    "    'm. trapezius',\n",
    "    'm. deltoideus',\n",
    "    'm. biceps brachi',\n",
    "    'm. rectus abdominalis',\n",
    "    'm. vastus lateralis',\n",
    "    'm. rectus femoris',\n",
    "    'm. tibialis anterior',\n",
    "    'm. gastrocnemius mediale kop',\n",
    "    'm. flexor digitorum profundum',\n",
    "    'm. vastus lateralis',\n",
    "]\n",
    " "
   ]
  },
  {
   "cell_type": "code",
   "execution_count": null,
   "id": "b142f1d9-8489-4fd4-85b3-20485d95bb3f",
   "metadata": {
    "tags": []
   },
   "outputs": [],
   "source": [
    "list_of_sets = [standard,  myositis, mnd, fshd]"
   ]
  },
  {
   "cell_type": "code",
   "execution_count": null,
   "id": "10ea9a53-8dae-47f0-973f-ea746d283831",
   "metadata": {
    "tags": []
   },
   "outputs": [],
   "source": [
    "set_list = []\n",
    "for set_e in list_of_sets:\n",
    "    set_e = set(set_e)\n",
    "    set_list.append(set_e)\n",
    "    \n",
    "set_list[1]    "
   ]
  },
  {
   "cell_type": "code",
   "execution_count": null,
   "id": "2e11b3ba-eb0c-4af0-89ed-a8dbce86d547",
   "metadata": {
    "tags": []
   },
   "outputs": [],
   "source": [
    "set_list[2]"
   ]
  },
  {
   "cell_type": "code",
   "execution_count": null,
   "id": "e98a7be3-f25a-44dc-940d-c79334de18a7",
   "metadata": {
    "tags": []
   },
   "outputs": [],
   "source": [
    "set_list[3].intersection(set_list[0].intersection(set_list[1].intersection(set_list[2])))"
   ]
  },
  {
   "cell_type": "code",
   "execution_count": null,
   "id": "d037c46a-3853-4f9b-96a2-1e73757ad224",
   "metadata": {
    "tags": []
   },
   "outputs": [],
   "source": [
    "print(set_list[0] - set_list[1])"
   ]
  },
  {
   "cell_type": "code",
   "execution_count": null,
   "id": "eec68151-4c8d-459f-917b-140eca6254e9",
   "metadata": {
    "tags": []
   },
   "outputs": [],
   "source": [
    "# optinal examine\n",
    "data.head(10)"
   ]
  },
  {
   "cell_type": "code",
   "execution_count": null,
   "id": "88ee57f3-3209-4094-a17e-92e44bf53307",
   "metadata": {
    "tags": []
   },
   "outputs": [],
   "source": [
    "data.columns"
   ]
  },
  {
   "cell_type": "code",
   "execution_count": null,
   "id": "56192b3c-029e-4cc4-a8d7-2fbddadf4441",
   "metadata": {
    "tags": []
   },
   "outputs": [],
   "source": [
    "reduced_data = data[['exam_id','muscle', 'diagnosis']]"
   ]
  },
  {
   "cell_type": "code",
   "execution_count": null,
   "id": "198963f9-eab5-4931-8cef-6da6159789ed",
   "metadata": {
    "tags": []
   },
   "outputs": [],
   "source": [
    "reduced_data"
   ]
  },
  {
   "cell_type": "code",
   "execution_count": null,
   "id": "7457cbdd-a6e7-429c-b1ec-4462e98188ae",
   "metadata": {
    "tags": []
   },
   "outputs": [],
   "source": [
    "further_reduced_data = reduced_data.drop_duplicates()"
   ]
  },
  {
   "cell_type": "code",
   "execution_count": null,
   "id": "6dd49164-0f59-4014-9c53-e331bfdec683",
   "metadata": {
    "tags": []
   },
   "outputs": [],
   "source": [
    "further_reduced_data"
   ]
  },
  {
   "cell_type": "code",
   "execution_count": null,
   "id": "737455d7-d8a5-4c44-b946-72eae0e67d0d",
   "metadata": {
    "tags": []
   },
   "outputs": [],
   "source": [
    "def categorize(x):\n",
    "    \n",
    "    return set(x)\n",
    "result = further_reduced_data.groupby(['exam_id'])[['muscle', 'diagnosis']].agg([categorize])\n",
    "result"
   ]
  },
  {
   "cell_type": "code",
   "execution_count": null,
   "id": "42369cc2-6fd8-4038-93c9-c5870333c2ac",
   "metadata": {},
   "outputs": [],
   "source": [
    "result.columns"
   ]
  },
  {
   "cell_type": "code",
   "execution_count": null,
   "id": "79376e31-c582-47d9-9033-8b18da46098c",
   "metadata": {
    "tags": []
   },
   "outputs": [],
   "source": [
    "result.columns = result.columns.to_flat_index()"
   ]
  },
  {
   "cell_type": "code",
   "execution_count": null,
   "id": "fc715598-12f8-4a20-94e3-75ac1d10859b",
   "metadata": {
    "tags": []
   },
   "outputs": [],
   "source": [
    "result = result.reset_index()\n",
    "result"
   ]
  },
  {
   "cell_type": "code",
   "execution_count": null,
   "id": "6e67376e-29d4-4c00-adc3-0d1f43e318f9",
   "metadata": {
    "tags": []
   },
   "outputs": [],
   "source": [
    "result.columns"
   ]
  },
  {
   "cell_type": "code",
   "execution_count": null,
   "id": "713d8127-3223-4ce3-9abb-3839b7c9cacf",
   "metadata": {
    "tags": []
   },
   "outputs": [],
   "source": [
    "result = result.rename(columns={('exam_id', ''): 'exam_id', ('muscle', 'categorize'): 'muscle_set',  ('diagnosis', 'categorize'): 'diagnosis'})\n",
    "result"
   ]
  },
  {
   "cell_type": "code",
   "execution_count": null,
   "id": "3203e02b-4385-459c-be9e-7a3c698f0009",
   "metadata": {
    "tags": []
   },
   "outputs": [],
   "source": [
    "result['diagnosis'] = result['diagnosis'].apply(list)\n",
    "result['diagnosis'] = result['diagnosis'].apply(lambda x:x[0])"
   ]
  },
  {
   "cell_type": "code",
   "execution_count": null,
   "id": "fa53a4a9-b6e7-4399-9895-0018d8587261",
   "metadata": {
    "tags": []
   },
   "outputs": [],
   "source": [
    "result"
   ]
  },
  {
   "cell_type": "code",
   "execution_count": null,
   "id": "a5a5e4a8-34dc-409c-bf21-6a20d1665744",
   "metadata": {},
   "outputs": [],
   "source": []
  },
  {
   "cell_type": "code",
   "execution_count": null,
   "id": "e8eaa78c-1547-4052-a797-b489fce6bd81",
   "metadata": {
    "tags": []
   },
   "outputs": [],
   "source": [
    "result.diagnosis.unique()"
   ]
  },
  {
   "cell_type": "code",
   "execution_count": null,
   "id": "359d1340-9a0d-4682-bb86-f8ae0b351a6b",
   "metadata": {
    "tags": []
   },
   "outputs": [],
   "source": [
    "result['muscle_set'] = result['muscle_set'].apply(list)"
   ]
  },
  {
   "cell_type": "code",
   "execution_count": null,
   "id": "9b97426a-3475-4b9d-805d-ecad71441cfa",
   "metadata": {},
   "outputs": [],
   "source": [
    "result['muscle_set'] = result['muscle_set'].apply(sorted)"
   ]
  },
  {
   "cell_type": "code",
   "execution_count": null,
   "id": "5caf68ac-10ef-4fb6-9baf-729c38b7005d",
   "metadata": {
    "tags": []
   },
   "outputs": [],
   "source": [
    "result['muscle_set'] = result['muscle_set'].apply(lambda x :\" \".join(x))"
   ]
  },
  {
   "cell_type": "code",
   "execution_count": null,
   "id": "7fc67df9-90c3-43be-ae7e-fd1822ebbaa4",
   "metadata": {},
   "outputs": [],
   "source": [
    "# add a reorganize to make the muscle sets, the same"
   ]
  },
  {
   "cell_type": "code",
   "execution_count": null,
   "id": "7dc998d4-a9d7-4905-806e-b4e30f0b5fb4",
   "metadata": {
    "tags": []
   },
   "outputs": [],
   "source": [
    "result"
   ]
  },
  {
   "cell_type": "code",
   "execution_count": null,
   "id": "c2421042-71bb-4ae4-aaf1-4e5f69ff789f",
   "metadata": {
    "tags": []
   },
   "outputs": [],
   "source": [
    "len(result.muscle_set.unique())"
   ]
  },
  {
   "cell_type": "code",
   "execution_count": null,
   "id": "d39da778-8934-440c-b3a3-9a1df8eafcb7",
   "metadata": {
    "tags": []
   },
   "outputs": [],
   "source": [
    "result.muscle_set.value_counts()"
   ]
  },
  {
   "cell_type": "code",
   "execution_count": null,
   "id": "6fb67287-a7e6-4338-9d3e-8b8b155d0cfd",
   "metadata": {
    "tags": []
   },
   "outputs": [],
   "source": [
    "result.muscle_set.value_counts().sort_values().plot(kind = 'barh')"
   ]
  },
  {
   "cell_type": "code",
   "execution_count": null,
   "id": "5f118231-312b-4450-a6bc-354057c98951",
   "metadata": {
    "tags": []
   },
   "outputs": [],
   "source": [
    "result.muscle_set.value_counts().sort_values().tail(10).plot(kind = 'barh')"
   ]
  },
  {
   "cell_type": "markdown",
   "id": "f00cb56e-ba06-4d62-98a5-1b330fd3a874",
   "metadata": {},
   "source": [
    "I will go looking to see if there are any mis-spellings in the ones where we only have one value"
   ]
  },
  {
   "cell_type": "code",
   "execution_count": null,
   "id": "bfc88cf5-497b-4ae5-b9e2-64339fe93697",
   "metadata": {
    "tags": []
   },
   "outputs": [],
   "source": [
    "result.muscle_set.value_counts().sort_values().tail()"
   ]
  },
  {
   "cell_type": "code",
   "execution_count": null,
   "id": "83808ad9-6718-4a5f-a227-edf22dd7aaf0",
   "metadata": {
    "tags": []
   },
   "outputs": [],
   "source": [
    "result.muscle_set.value_counts().sort_values().head(20)"
   ]
  },
  {
   "cell_type": "markdown",
   "id": "201e95a6-ccda-4882-bf05-c9420fb4eb61",
   "metadata": {},
   "source": [
    "Everything looks regularly spelled, as if by a drop-down menu. CHeck with LA. "
   ]
  },
  {
   "cell_type": "markdown",
   "id": "357b729c-5f41-4f0c-858b-3eff8aac6dac",
   "metadata": {},
   "source": [
    "Anyways..let's see if there is variety in the diagnoses by muscle set."
   ]
  },
  {
   "cell_type": "code",
   "execution_count": null,
   "id": "e340582e-5ca1-49e4-9150-ff1d6193ce6d",
   "metadata": {
    "tags": []
   },
   "outputs": [],
   "source": [
    "top_set_5 = result[result['muscle_set'] == 'Biceps Deltoid FCR GM ID1 PerT TA VL']\n",
    "top_set_5['diagnosis'].value_counts()"
   ]
  },
  {
   "cell_type": "code",
   "execution_count": null,
   "id": "8829a20b-9307-401c-8dca-33d223f66186",
   "metadata": {
    "tags": []
   },
   "outputs": [],
   "source": [
    "top_set_4 = result[result['muscle_set'] == 'Biceps Deltoid Digastric GM Geniohyoid Masseter RF Rectusab TA Trap VL']\n",
    "top_set_4['diagnosis'].value_counts()"
   ]
  },
  {
   "cell_type": "markdown",
   "id": "b72f03e2-a126-49fe-b761-7f42a6659ccb",
   "metadata": {},
   "source": [
    "## Uhoh, we have a problem ...whenever we have the fourth most popular set of muscles, the diagnosis is always 5"
   ]
  },
  {
   "cell_type": "code",
   "execution_count": null,
   "id": "4060d5dd-5141-4f3e-a865-2fa532950985",
   "metadata": {
    "tags": []
   },
   "outputs": [],
   "source": [
    "top_set_3 = result[result['muscle_set'] == 'Biceps Digastric FCR GM Geniohyoid ID1 Masseter RF Rectusab SCM TA Trap']\n",
    "top_set_3['diagnosis'].value_counts()"
   ]
  },
  {
   "cell_type": "code",
   "execution_count": null,
   "id": "6e7bc080-ec78-413f-9f3b-bdb7aadd192e",
   "metadata": {
    "tags": []
   },
   "outputs": [],
   "source": [
    "top_set_2 = result[result['muscle_set'] == 'Biceps Deltoid FCR GM TA VL']\n",
    "top_set_2['diagnosis'].value_counts()"
   ]
  },
  {
   "cell_type": "code",
   "execution_count": null,
   "id": "0a4c044e-9bdf-492a-9178-523545c52481",
   "metadata": {
    "tags": []
   },
   "outputs": [],
   "source": [
    "top_set_1 = result[result['muscle_set'] == 'Biceps Deltoid FCR GM ID1 PerT TA VL']\n",
    "top_set_1['diagnosis'].value_counts()"
   ]
  },
  {
   "cell_type": "markdown",
   "id": "ebfda88a-93e9-4fa6-ac6e-93a26ab1eb2f",
   "metadata": {},
   "source": [
    "## So most sets in the top 5 have a nice spread of diagnosis with this wierd excepetion of the fourth"
   ]
  },
  {
   "cell_type": "markdown",
   "id": "5fb13d50-8d90-404d-a89f-e6c90955683e",
   "metadata": {},
   "source": [
    "## WE can also look the oher way, at diagnosis and see if they always map to a certain set of muscles."
   ]
  },
  {
   "cell_type": "code",
   "execution_count": null,
   "id": "34248201-6b26-4beb-a4d5-a34f41017bbb",
   "metadata": {
    "tags": []
   },
   "outputs": [],
   "source": [
    "result[result['diagnosis'] == 5]"
   ]
  },
  {
   "cell_type": "code",
   "execution_count": null,
   "id": "f05f930e-88c9-46aa-b23c-0c54477caf15",
   "metadata": {},
   "outputs": [],
   "source": [
    "result[result['diagnosis'] == 3]"
   ]
  },
  {
   "cell_type": "code",
   "execution_count": null,
   "id": "4d71826a-464b-4550-a013-4a7ca0e91dbe",
   "metadata": {
    "tags": []
   },
   "outputs": [],
   "source": [
    "result[result['diagnosis'] == 0]"
   ]
  },
  {
   "cell_type": "code",
   "execution_count": null,
   "id": "5a62c797-b865-4b00-baea-7b47e4896217",
   "metadata": {
    "tags": []
   },
   "outputs": [],
   "source": [
    "result[result['diagnosis'] == 99]"
   ]
  },
  {
   "cell_type": "code",
   "execution_count": null,
   "id": "ef693d4b-4b4e-469c-909a-9bd4e0867a76",
   "metadata": {
    "tags": []
   },
   "outputs": [],
   "source": [
    "print(type(result['muscle_set'][0])) "
   ]
  },
  {
   "cell_type": "code",
   "execution_count": null,
   "id": "3e98dd2d-6710-41ce-9c72-a74cef315c3e",
   "metadata": {},
   "outputs": [],
   "source": []
  }
 ],
 "metadata": {
  "kernelspec": {
   "display_name": "Python 3 (ipykernel)",
   "language": "python",
   "name": "python3"
  },
  "language_info": {
   "codemirror_mode": {
    "name": "ipython",
    "version": 3
   },
   "file_extension": ".py",
   "mimetype": "text/x-python",
   "name": "python",
   "nbconvert_exporter": "python",
   "pygments_lexer": "ipython3",
   "version": "3.11.6"
  }
 },
 "nbformat": 4,
 "nbformat_minor": 5
}
