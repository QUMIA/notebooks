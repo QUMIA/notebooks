{
 "cells": [
  {
   "cell_type": "markdown",
   "id": "bf6e66e8-0e4b-424f-a1f8-004180bc97ae",
   "metadata": {
    "tags": []
   },
   "source": [
    "# Understanding predictions for QUMIA project"
   ]
  },
  {
   "cell_type": "code",
   "execution_count": null,
   "id": "9af61284-6c9d-4c5f-863c-d2c9b8f653c4",
   "metadata": {
    "tags": []
   },
   "outputs": [],
   "source": [
    "## import libraries\n",
    "import os       # using operating system dependent functionality (folders)\n",
    "import glob\n",
    "import shutil \n",
    "import itertools\n",
    "import tempfile \n",
    "import subprocess\n",
    "\n",
    "import pandas as pd # data analysis and manipulation\n",
    "import numpy as np    # numerical computing (manipulating and performing operations on arrays of data)\n",
    "import matplotlib.pyplot as plt\n",
    "import seaborn as sns\n",
    "import ipywidgets as widgets\n",
    "\n",
    "from sklearn import metrics\n",
    "from sklearn.metrics import confusion_matrix\n",
    "\n",
    "import datetime\n",
    "from shutil import copytree\n",
    "\n",
    "from IPython.display import Image\n",
    "\n",
    "import imageio\n",
    "import skimage\n",
    "\n",
    "from IPython.display import Image"
   ]
  },
  {
   "cell_type": "code",
   "execution_count": null,
   "id": "02c8b05b-00e1-407c-b205-3508ae6166e1",
   "metadata": {
    "tags": []
   },
   "outputs": [],
   "source": [
    "## import data\n",
    "data_test = pd.read_csv('../df_test_predictions.csv')\n",
    "data_train= pd.read_csv('../df_train_predictions.csv')\n",
    "data_validation= pd.read_csv('../df_validation_predictions.csv')"
   ]
  },
  {
   "cell_type": "code",
   "execution_count": null,
   "id": "eec68151-4c8d-459f-917b-140eca6254e9",
   "metadata": {
    "tags": []
   },
   "outputs": [],
   "source": [
    "## optinal examine\n",
    "data_validation.head(3)"
   ]
  },
  {
   "cell_type": "code",
   "execution_count": null,
   "id": "4e4b3659-b8a5-4bc0-b4fe-7ea3cf026963",
   "metadata": {
    "tags": []
   },
   "outputs": [],
   "source": [
    "## concatenate data\n",
    "data = pd.concat(\n",
    "    [data_test,\n",
    "    data_train,\n",
    "    data_validation,]\n",
    ")\n",
    "data.tail(3)"
   ]
  },
  {
   "cell_type": "code",
   "execution_count": null,
   "id": "0c9ee546-a8a8-4d56-9793-0e902bf5b173",
   "metadata": {
    "tags": []
   },
   "outputs": [],
   "source": [
    "data.columns"
   ]
  },
  {
   "cell_type": "code",
   "execution_count": null,
   "id": "671e077e-6d29-4a51-9d8f-0d6266f170ca",
   "metadata": {
    "tags": []
   },
   "outputs": [],
   "source": []
  },
  {
   "cell_type": "code",
   "execution_count": null,
   "id": "7584c7ec-e038-4364-aa10-451c3ad6fab4",
   "metadata": {
    "tags": []
   },
   "outputs": [],
   "source": [
    "data_per_patient_for_age2 = data.drop(['exam_id','Weight', 'Length',\n",
    "        'muscle', 'side', 'z_score', 'h_score', 'image_file', 'bmi',\n",
    "       'has_markers', 'li_x', 'li_y', 're_x', 're_y', 'id_x', 'id_y', 'bmi',\n",
    "       'prediction', 'rounded_prediction', 'label'], axis=1)\n",
    "data_per_patient_for_age2 = data_per_patient_for_age2.drop_duplicates()#.groupby(['anon_id']).mean()"
   ]
  },
  {
   "cell_type": "code",
   "execution_count": null,
   "id": "4653fa86-2a9e-4b73-9b07-f5b50c0afdf5",
   "metadata": {
    "tags": []
   },
   "outputs": [],
   "source": [
    "data_per_patient_for_age = data.drop(['exam_id','Weight', 'Length',\n",
    "       'diagnosis', 'muscle', 'side', 'z_score', 'h_score', 'image_file',\n",
    "       'has_markers', 'li_x', 'li_y', 're_x', 're_y', 'id_x', 'id_y', 'bmi',\n",
    "       'prediction', 'rounded_prediction', 'label'], axis=1)\n",
    "data_per_patient_for_age = data_per_patient_for_age.drop_duplicates()#.groupby(['anon_id']).mean()"
   ]
  },
  {
   "cell_type": "code",
   "execution_count": null,
   "id": "5c7128c2-f4c3-4b71-b069-191115a5e7f9",
   "metadata": {
    "tags": []
   },
   "outputs": [],
   "source": [
    "#print(type(data_per_patient_for_age))"
   ]
  },
  {
   "cell_type": "code",
   "execution_count": null,
   "id": "38556ca0-032f-4640-b594-0d1507170eb2",
   "metadata": {
    "tags": []
   },
   "outputs": [],
   "source": [
    "data_per_patient_for_age2"
   ]
  },
  {
   "cell_type": "code",
   "execution_count": null,
   "id": "8770cbbf-c476-4e6b-a810-85ec7ae97f1b",
   "metadata": {
    "tags": []
   },
   "outputs": [],
   "source": [
    "data_per_patient_for_age#.groupby(['Sex'],['Age_exam']).size().unstack().plot(kind='bar', stacked=True, color=color_menu )\n",
    "#data.groupby([bars.value, colors.value]).size().unstack().plot(kind='bar', stacked=True, color=color_menu )"
   ]
  },
  {
   "cell_type": "markdown",
   "id": "a811fa20-c8e5-4516-97b9-809b987fa675",
   "metadata": {},
   "source": [
    "# First a bit about the data\n",
    "## Underlying reality examination\n"
   ]
  },
  {
   "cell_type": "code",
   "execution_count": null,
   "id": "c19ff303-e913-41bb-bb0d-f31e42eebc83",
   "metadata": {
    "tags": []
   },
   "outputs": [],
   "source": [
    "colors = [\"#d99c9a\", \"#4374B3\"]# Set your custom color palette\n",
    "sns.set_palette(sns.color_palette(colors))\n",
    "sns.catplot(\n",
    "    data=data,  x=\"label\", y=\"Age_exam\", col=\"Sex\",  hue=\"Sex\",\n",
    "    kind=\"bar\", height=4, aspect=.6,\n",
    ")\n",
    "plt.savefig(\"data_by_sex_and_label.png\")"
   ]
  },
  {
   "cell_type": "markdown",
   "id": "d5cd662d-4772-437c-9bf4-4419ab06e0ed",
   "metadata": {},
   "source": [
    "We can also look at what kinds of categories split the data eg. per muscle etx. "
   ]
  },
  {
   "cell_type": "code",
   "execution_count": null,
   "id": "38a892cd-5204-4f34-85e1-767ceaeb7679",
   "metadata": {
    "tags": []
   },
   "outputs": [],
   "source": [
    "# stack my data through a widget\n",
    "possibilities = ['Age_exam',\n",
    " 'Sex',\n",
    " 'diagnosis',\n",
    " 'muscle',\n",
    " 'side',\n",
    " 'h_score',\n",
    " 'bmi',               \n",
    " 'prediction',\n",
    " 'rounded_prediction',\n",
    " 'label']\n",
    "from ipywidgets import interactive\n",
    "bars = widgets.Dropdown(\n",
    "    options=possibilities,\n",
    "    value='muscle',\n",
    "    description='Bars',\n",
    "    disabled=False\n",
    ")\n",
    "colors = widgets.Dropdown(\n",
    "    options= possibilities,\n",
    "    value='diagnosis',\n",
    "    description='Colors',\n",
    "    disabled=False\n",
    ")\n",
    "def update_dropdown(fru, col):\n",
    "    info = f\"I will graph {fru.lower()} on {col.lower()} grouping!\"\n",
    "    display(info)  \n",
    "        \n",
    "w = interactive(update_dropdown, col=bars, fru=colors) \n",
    "display(w)"
   ]
  },
  {
   "cell_type": "code",
   "execution_count": null,
   "id": "1e685e8e-45a0-4a0a-abff-640d1b919b86",
   "metadata": {
    "tags": []
   },
   "outputs": [],
   "source": [
    "#data.bmi.max()\n",
    "color_menu= ['pink', 'steelblue', 'green', 'purple', 'red','orange', 'brown', 'magenta']\n",
    "data.groupby([bars.value, colors.value]).size().unstack().plot(kind='bar', stacked=True, color=color_menu )\n",
    "#plt.xticks([-1,100, 200,300])"
   ]
  },
  {
   "cell_type": "code",
   "execution_count": null,
   "id": "f314ea32-5c22-46ea-b99b-22256a3f6de6",
   "metadata": {
    "tags": []
   },
   "outputs": [],
   "source": [
    "color_menu= ['pink', 'steelblue', 'green', 'purple', 'red','orange', 'brown', 'magenta']\n",
    "data.groupby([bars.value, colors.value]).size().unstack().plot(kind='bar', stacked=True, color=color_menu )\n",
    "#plt.savefig(\"muscles_versus_label.png\")\n",
    "#plt.xticks([0,250])#,[0,10,20,30,40,50,60,70,80,90,100]) # for doing age per patient"
   ]
  },
  {
   "cell_type": "markdown",
   "id": "22e64d4c-496f-459a-9d4c-03b2569835d4",
   "metadata": {
    "tags": []
   },
   "source": [
    "## A first rough graph\n",
    "about predictions overall"
   ]
  },
  {
   "cell_type": "markdown",
   "id": "5e9230ea-9e19-4bb3-a57f-56b49cd851e1",
   "metadata": {},
   "source": [
    "## here we can do to using test or validation data or test data\n",
    "watch out for the next cell, we can change it to use validation data, or whichever data, but next cell must be changed"
   ]
  },
  {
   "cell_type": "code",
   "execution_count": null,
   "id": "084be83d-4109-40c4-b040-d74a88ecdc54",
   "metadata": {
    "tags": []
   },
   "outputs": [],
   "source": [
    "data = data_test"
   ]
  },
  {
   "cell_type": "code",
   "execution_count": null,
   "id": "d228f9ec-6610-4f72-a84a-b4ff29c23aee",
   "metadata": {
    "tags": []
   },
   "outputs": [],
   "source": [
    "prediction =data.prediction\n",
    "label= data.label\n",
    "plt.figure(figsize=(10,10))\n",
    "plt.scatter(label,prediction , c='teal', alpha = 0.15)\n",
    "p1 = max(max(prediction), max(label))\n",
    "p2 = min(min(prediction), min(label))\n",
    "plt.plot([p1, p2], [p1, p2], 'b-')\n",
    "plt.xlabel('True Values/Labels', fontsize=15)\n",
    "plt.ylabel('Predictions', fontsize=15)\n",
    "plt.axis('equal')\n",
    "plt.show()"
   ]
  },
  {
   "cell_type": "code",
   "execution_count": null,
   "id": "94bbccbf-3cd8-47f7-a92a-78032cd6b016",
   "metadata": {
    "tags": []
   },
   "outputs": [],
   "source": [
    "## Let's jitter that a bit so we can see it better"
   ]
  },
  {
   "cell_type": "code",
   "execution_count": null,
   "id": "5ffedf07-ea29-41c1-98bb-6d87b1a284cd",
   "metadata": {
    "tags": []
   },
   "outputs": [],
   "source": [
    "sns.catplot(data=data,  x=\"label\",y=\"prediction\", color='teal', jitter=True, alpha = 0.15)"
   ]
  },
  {
   "cell_type": "markdown",
   "id": "e1ff0c2e-ce9d-4d36-81d1-3094597ecaab",
   "metadata": {
    "tags": []
   },
   "source": [
    "## That had too much overlap to be useful, but let's try splitting on a categorical variable anyways"
   ]
  },
  {
   "cell_type": "code",
   "execution_count": null,
   "id": "1ff6eea9-1789-4806-9249-5e34aca9007b",
   "metadata": {
    "tags": []
   },
   "outputs": [],
   "source": [
    "## the below plot takes a zillion years to run, so never mind\n",
    "plt.figure(figsize=(14,14))\n",
    "sns.swarmplot(data=data, x=\"label\", y=\"prediction\", hue=\"bmi\", s=0.80)"
   ]
  },
  {
   "cell_type": "markdown",
   "id": "7823a6a5-0de5-498a-8e4a-b8c568f3d4dc",
   "metadata": {},
   "source": [
    "# Now let's look at specific muscles"
   ]
  },
  {
   "cell_type": "markdown",
   "id": "144e2be8-7cfa-4a5d-b9a8-1f3410ede6b5",
   "metadata": {},
   "source": [
    "Pick a muscle for visualization"
   ]
  },
  {
   "cell_type": "code",
   "execution_count": null,
   "id": "b581c713-dab0-462b-8f7d-f27140dfe1d5",
   "metadata": {
    "tags": []
   },
   "outputs": [],
   "source": [
    "features = widgets.Dropdown(\n",
    "    options=data.muscle.unique().tolist(),\n",
    "    value='Biceps',\n",
    "    description='Muscle',\n",
    "    disabled=False\n",
    ")\n",
    "features"
   ]
  },
  {
   "cell_type": "code",
   "execution_count": null,
   "id": "50a6387c-c00c-427d-8f41-b9aaf608a196",
   "metadata": {
    "tags": []
   },
   "outputs": [],
   "source": [
    "muscle =features.value\n",
    "data_filtered =  data[data[\"muscle\"] == muscle]\n",
    "y_axis = \"prediction\"\n",
    "sns.set_style(\"whitegrid\")\n",
    "sns.catplot(data = data_filtered, x = 'label', y = y_axis, hue =\"Sex\", alpha = 0.35 ).set(title='Biceps Samples Only')\n"
   ]
  },
  {
   "cell_type": "markdown",
   "id": "3e6f8d1d-f631-42e6-9c2b-9d7137851db1",
   "metadata": {},
   "source": [
    "# We can also look at specific diagnoses"
   ]
  },
  {
   "cell_type": "code",
   "execution_count": null,
   "id": "6f864746-f520-4c03-8580-3eb2654ae9bf",
   "metadata": {
    "tags": []
   },
   "outputs": [],
   "source": [
    "features_d = widgets.Dropdown(\n",
    "    options=data.diagnosis.unique().tolist(),\n",
    "    value=3,\n",
    "    description='Diagnosis Number',\n",
    "    disabled=False\n",
    ")\n",
    "features_d"
   ]
  },
  {
   "cell_type": "code",
   "execution_count": null,
   "id": "b09f5cf6-ac94-4518-820e-7cfde6339b0b",
   "metadata": {
    "tags": []
   },
   "outputs": [],
   "source": [
    "diagnosis =features_d.value\n",
    "data_filtered =  data[data[\"diagnosis\"] == diagnosis]\n",
    "y_axis = \"prediction\"\n",
    "sns.set_style(\"whitegrid\")\n",
    "sns.catplot(data = data_filtered, x = 'label', y = y_axis, hue =\"Sex\", alpha = 0.35 )\n"
   ]
  },
  {
   "cell_type": "markdown",
   "id": "955e5169-fe91-48c2-a11c-bc293847533e",
   "metadata": {
    "tags": []
   },
   "source": [
    "## Of course if we round out predictions we can then do a confusion matrix.\n",
    "Confusion matrices\n",
    "in this case need to re-round our predictions because we have 4 labels, and 16 possible rounded predictions. Let's first add a re-rounded prediction column"
   ]
  },
  {
   "cell_type": "code",
   "execution_count": null,
   "id": "50644bdc-1a75-471f-aebc-feb663a0d448",
   "metadata": {
    "tags": []
   },
   "outputs": [],
   "source": [
    "data.h_score.unique()"
   ]
  },
  {
   "cell_type": "code",
   "execution_count": null,
   "id": "f953e4cd-c24f-43b9-b355-0c45a0306080",
   "metadata": {
    "tags": []
   },
   "outputs": [],
   "source": [
    "data.label.unique()"
   ]
  },
  {
   "cell_type": "code",
   "execution_count": null,
   "id": "32d097bb-0aaa-41f3-a443-45c172a6621a",
   "metadata": {
    "tags": []
   },
   "outputs": [],
   "source": [
    "data.prediction.describe()"
   ]
  },
  {
   "cell_type": "markdown",
   "id": "6b44d14a-8e0f-4b67-a51f-b6f358597843",
   "metadata": {},
   "source": [
    "Now below we can decide how to remap values explcitly in the map function\n",
    "## Alert- this is very important\n",
    "I did not create reround the way the program did"
   ]
  },
  {
   "cell_type": "code",
   "execution_count": null,
   "id": "8f50340d-0699-40ac-84fa-7411240ee50e",
   "metadata": {
    "tags": []
   },
   "outputs": [],
   "source": [
    "data['reround'] = data['rounded_prediction']\n",
    "print(data['reround'].unique())\n",
    "#data['reround'] =  data['reround'].map({ 1: 2, 2:2, 3:2, 4:4, 5:4, 6:4,7:8, 8:8,9:8, 10:8, 11:8, 12:16, 13:16, 14:16, 15:16, 16:16})\n",
    "print(data['reround'].unique())"
   ]
  },
  {
   "cell_type": "code",
   "execution_count": null,
   "id": "678a3672-7ea0-4017-b5f5-aab0698afcdb",
   "metadata": {
    "tags": []
   },
   "outputs": [],
   "source": [
    "data.label.unique()"
   ]
  },
  {
   "cell_type": "code",
   "execution_count": null,
   "id": "27983b3d-ac6b-4b09-8340-12e36cea3498",
   "metadata": {
    "tags": []
   },
   "outputs": [],
   "source": [
    "data.reround.unique()"
   ]
  },
  {
   "cell_type": "code",
   "execution_count": null,
   "id": "5526d09e-8675-4101-bf49-d4e731b2224f",
   "metadata": {
    "tags": []
   },
   "outputs": [],
   "source": [
    "#data[\"rounded_prediction\"]"
   ]
  },
  {
   "cell_type": "code",
   "execution_count": null,
   "id": "4e299cd7-58c7-425c-973c-c312ce67e11b",
   "metadata": {
    "tags": []
   },
   "outputs": [],
   "source": [
    "#len(data.rounded_prediction.unique())"
   ]
  },
  {
   "cell_type": "code",
   "execution_count": null,
   "id": "42ff7106-44f3-4a61-888b-beb2aba07247",
   "metadata": {
    "tags": []
   },
   "outputs": [],
   "source": [
    "\n",
    "def plot_confusion_matrix(cm, classes,\n",
    "                          title='Simple confusion matrix',\n",
    "                          cmap=plt.cm.Blues):\n",
    "\n",
    "    plt.imshow(cm, interpolation='nearest', cmap=cmap)\n",
    "    plt.title(title)\n",
    "    plt.colorbar()\n",
    "    tick_marks = np.arange(len(classes))\n",
    "    plt.xticks(tick_marks, classes, rotation=45)\n",
    "    plt.yticks(tick_marks, classes)\n",
    "\n",
    "    thresh = cm.max() / 2.\n",
    "    for i, j in itertools.product(range(cm.shape[0]), range(cm.shape[1])):\n",
    "        plt.text(j, i, cm[i, j],\n",
    "                 horizontalalignment=\"center\",\n",
    "                 color=\"white\" if cm[i, j] > thresh else \"black\")\n",
    "\n",
    "    plt.tight_layout()\n",
    "    plt.ylabel('True label')\n",
    "    plt.xlabel('Predicted label')"
   ]
  },
  {
   "cell_type": "code",
   "execution_count": null,
   "id": "713fd1d4-2718-495d-9979-6a265fb62d06",
   "metadata": {
    "tags": []
   },
   "outputs": [],
   "source": [
    "cm = metrics.confusion_matrix(data.label, data.reround)\n",
    "plot_confusion_matrix(cm, classes=['1', '2', '3', '4'], )"
   ]
  },
  {
   "cell_type": "code",
   "execution_count": null,
   "id": "785080af-6645-45c1-bd8c-1e0e99032a7f",
   "metadata": {
    "tags": []
   },
   "outputs": [],
   "source": [
    "y = data[\"label\"]\n",
    "y_pred = data[\"reround\"]\n",
    "cf_matrix = confusion_matrix(y, y_pred)"
   ]
  },
  {
   "cell_type": "code",
   "execution_count": null,
   "id": "e3e35d0e-c4bf-4492-8056-4ac65417fb27",
   "metadata": {
    "tags": []
   },
   "outputs": [],
   "source": []
  },
  {
   "cell_type": "code",
   "execution_count": null,
   "id": "69a65e6b-6a25-4958-9506-fdd4e6d93978",
   "metadata": {
    "tags": []
   },
   "outputs": [],
   "source": [
    "sns.heatmap(cf_matrix/np.sum(cf_matrix), annot=True, xticklabels=[1,2,3,4], yticklabels=[1,2,3,4],\n",
    "            fmt='.2%', cmap='Blues')"
   ]
  },
  {
   "cell_type": "markdown",
   "id": "8b080ba4-c411-49a2-870e-588220fd2c14",
   "metadata": {},
   "source": [
    "# Now we want to take a closer look at things that were miscategorized:"
   ]
  },
  {
   "cell_type": "markdown",
   "id": "84fef214-53cf-40e9-a50e-7a53415c90a7",
   "metadata": {},
   "source": [
    "Let's pick everything that was off into lists and examine:"
   ]
  },
  {
   "cell_type": "code",
   "execution_count": null,
   "id": "a99acb45-cd35-40fa-beb9-641445640cb1",
   "metadata": {
    "tags": []
   },
   "outputs": [],
   "source": [
    "\n",
    "reality = widgets.Dropdown(\n",
    "    options=data.label.unique().tolist(),\n",
    "    value= 2,\n",
    "    description='Label/Reality',\n",
    "    disabled=False\n",
    ")\n",
    "\n",
    "prediction = widgets.FloatRangeSlider(\n",
    "    value=[1, 2.5],\n",
    "    min=0,\n",
    "    max=16.0,\n",
    "    step=0.1,\n",
    "    description='Test:',\n",
    "    disabled=False,\n",
    "    continuous_update=False,\n",
    "    orientation='horizontal',\n",
    "    readout=True,\n",
    "    readout_format='.1f',\n",
    ")\n",
    "widgets.VBox([reality, prediction])"
   ]
  },
  {
   "cell_type": "code",
   "execution_count": null,
   "id": "3a814bf5-8467-4b31-bcf2-4dc2a8d9d618",
   "metadata": {
    "tags": []
   },
   "outputs": [],
   "source": [
    "new_data = data[data['label'] == reality.value]\n",
    "\n",
    "filtered_data = new_data[new_data['rounded_prediction'].between(prediction.value[0], prediction.value[1])]\n",
    "wanted_pictures = list(filtered_data['exam_id'])\n",
    "print(\"There are \", len(wanted_pictures) , \"images in this category, you can choose them to look at\")"
   ]
  },
  {
   "cell_type": "code",
   "execution_count": null,
   "id": "c6114a8a-8515-4bd6-9281-150a9aabbe5a",
   "metadata": {
    "tags": []
   },
   "outputs": [],
   "source": [
    "maybe_wrong = widgets.Dropdown(\n",
    "    options=wanted_pictures,\n",
    "    value= wanted_pictures[0],\n",
    "    description='Picture',\n",
    "    disabled=False\n",
    ")\n",
    "maybe_wrong "
   ]
  },
  {
   "cell_type": "code",
   "execution_count": null,
   "id": "3f51568b-52f1-4edd-ad53-d0674fb874e0",
   "metadata": {
    "tags": []
   },
   "outputs": [],
   "source": [
    "maybe_wrong.value"
   ]
  },
  {
   "cell_type": "markdown",
   "id": "48e8a657-66e4-430d-8756-2c3b1524502f",
   "metadata": {},
   "source": [
    "In the cell below you need to put in a source folder e.g. C:/Projects/merged, then press the enter key"
   ]
  },
  {
   "cell_type": "code",
   "execution_count": null,
   "id": "feab2c8b-bdc8-4b70-8f3c-13e37aec9a2e",
   "metadata": {
    "tags": []
   },
   "outputs": [],
   "source": [
    "source_root = input(\"add directory (without qoutes):\")"
   ]
  },
  {
   "cell_type": "code",
   "execution_count": null,
   "id": "adcfa5ca-48a7-4af5-a351-e031bfe49dd2",
   "metadata": {
    "tags": []
   },
   "outputs": [],
   "source": [
    "source_root"
   ]
  },
  {
   "cell_type": "code",
   "execution_count": null,
   "id": "1e27659a-2e45-425d-93fd-dc766ddf24fd",
   "metadata": {
    "tags": []
   },
   "outputs": [],
   "source": [
    "source = os.path.join(source_root,maybe_wrong.value )\n",
    "#source = os.path.join(source_root,\"baby\" )\n",
    "\n",
    "skimage_list = os.listdir(source)\n",
    "from IPython.display import display\n",
    "def f(a):\n",
    "    display(a)\n",
    "    image_l = os.path.join(source,skimage_list[a])\n",
    "    display(Image(filename=image_l))\n",
    "    return a\n",
    "w = interactive(f, a=widgets.IntSlider(min=0,max=(len(skimage_list)-1),step=1))\n",
    "w"
   ]
  },
  {
   "cell_type": "markdown",
   "id": "2d7070cc-7b8f-4996-8bad-50c855f2d186",
   "metadata": {},
   "source": [
    "## We can also look at mean absolute error and explained variance, \n",
    "Although I'm not sure explained variance really makes sense here..."
   ]
  },
  {
   "cell_type": "markdown",
   "id": "2a5f4a24-b5ff-48c5-9049-92eeafa99006",
   "metadata": {},
   "source": [
    "### In general\n",
    "we will look over all at explained variance and MAE"
   ]
  },
  {
   "cell_type": "code",
   "execution_count": null,
   "id": "c6f396f6-e429-472d-b79a-413f142f6b77",
   "metadata": {
    "tags": []
   },
   "outputs": [],
   "source": [
    "y_test = data.label\n",
    "y_pred = data.prediction\n",
    "metrics.explained_variance_score(y_test, y_pred)"
   ]
  },
  {
   "cell_type": "code",
   "execution_count": null,
   "id": "c61d93aa-9ce3-48de-9d98-20dec85db887",
   "metadata": {
    "tags": []
   },
   "outputs": [],
   "source": [
    "metrics.mean_absolute_error(y_test, y_pred)"
   ]
  },
  {
   "cell_type": "markdown",
   "id": "ea39fdf6-7722-4ba9-b17b-7ce50ade0fde",
   "metadata": {},
   "source": [
    "### Looking at specific muscles"
   ]
  },
  {
   "cell_type": "code",
   "execution_count": null,
   "id": "ed314cd3-841f-4ca2-aa30-39e907fe040c",
   "metadata": {
    "tags": []
   },
   "outputs": [],
   "source": [
    "for muscle in data.muscle.unique().tolist():\n",
    "    data_m = data[data[\"muscle\"] == muscle]\n",
    "    y_test = data_m.label\n",
    "    y_pred = data_m.prediction\n",
    "    print(muscle, \"MAE:\", metrics.mean_absolute_error(y_test, y_pred), \"Explained variance:\", metrics.explained_variance_score(y_test, y_pred))"
   ]
  },
  {
   "cell_type": "markdown",
   "id": "28d2e45b-6b32-49d4-80b6-b50739ea2ac7",
   "metadata": {},
   "source": [
    "### Looking at specific diagnoses"
   ]
  },
  {
   "cell_type": "code",
   "execution_count": null,
   "id": "4e1856f6-99c2-4283-baea-ed4e74a89f97",
   "metadata": {
    "tags": []
   },
   "outputs": [],
   "source": [
    "for diagnosis in data.diagnosis.unique().tolist():\n",
    "    data_d = data[data[\"diagnosis\"] == diagnosis]\n",
    "    y_test = data_d.label\n",
    "    y_pred = data_d.prediction\n",
    "    print(diagnosis, \"MAE:\", metrics.mean_absolute_error(y_test, y_pred), \"Explained variance:\", metrics.explained_variance_score(y_test, y_pred))"
   ]
  },
  {
   "cell_type": "code",
   "execution_count": null,
   "id": "9a8a15b3-56e9-4e1c-be4f-888d5200a854",
   "metadata": {},
   "outputs": [],
   "source": []
  },
  {
   "cell_type": "code",
   "execution_count": null,
   "id": "82a095b5-ac57-478a-ba44-65f07ed05caf",
   "metadata": {},
   "outputs": [],
   "source": []
  }
 ],
 "metadata": {
  "kernelspec": {
   "display_name": "Python 3 (ipykernel)",
   "language": "python",
   "name": "python3"
  },
  "language_info": {
   "codemirror_mode": {
    "name": "ipython",
    "version": 3
   },
   "file_extension": ".py",
   "mimetype": "text/x-python",
   "name": "python",
   "nbconvert_exporter": "python",
   "pygments_lexer": "ipython3",
   "version": "3.11.6"
  }
 },
 "nbformat": 4,
 "nbformat_minor": 5
}
